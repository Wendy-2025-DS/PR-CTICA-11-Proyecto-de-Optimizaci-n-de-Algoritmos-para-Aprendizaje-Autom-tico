{
 "cells": [
  {
   "attachments": {},
   "cell_type": "markdown",
   "id": "27b09e13",
   "metadata": {},
   "source": [
    "# Problemas de optimización de algoritmos"
   ]
  },
  {
   "attachments": {},
   "cell_type": "markdown",
   "id": "ed05e9bf",
   "metadata": {},
   "source": [
    "## Ejercicio 1\n",
    "### Optimización de código para procesamiento de texto\n",
    "\n",
    "Se te ha entregado un código de procesamiento de texto que realiza las siguientes operaciones:\n",
    "\n",
    "1. Convierte todo el texto a minúsculas.\n",
    "2. Elimina los signos de puntuación.\n",
    "3. Cuenta la frecuencia de cada palabra.\n",
    "4. Muestra las 5 palabras mas comunes.\n",
    "\n",
    "El código funciona, pero es ineficiente y puede optimizarse. Tu tarea es identificar las áreas que pueden ser mejoradas y reescribir esas partes para hacer el código mas eficiente y legible.\n"
   ]
  },
  {
   "cell_type": "code",
   "execution_count": 4,
   "id": "8467465b",
   "metadata": {},
   "outputs": [
    {
     "name": "stdout",
     "output_type": "stream",
     "text": [
      "'the': 5 times\n",
      "'of': 3 times\n",
      "'in': 2 times\n",
      "'a': 2 times\n",
      "'she': 2 times\n"
     ]
    }
   ],
   "source": [
    "import string\n",
    "\n",
    "def process_text(text):\n",
    "    # Texto a minuscula\n",
    "    text = text.lower()\n",
    "\n",
    "    # Eliminación de puntuaciones\n",
    "    for p in string.punctuation:\n",
    "        text = text.replace(p, \"\")\n",
    "\n",
    "    # Split text into words\n",
    "    words = text.split()\n",
    "\n",
    "    # Conteo de frecuencias\n",
    "    frequencies = {}\n",
    "    for w in words:\n",
    "        if w in frequencies:\n",
    "            frequencies[w] += 1\n",
    "        else:\n",
    "            frequencies[w] = 1\n",
    "\n",
    "    sorted_frequencies = sorted(frequencies.items(), key = lambda x: x[1], reverse = True)\n",
    "\n",
    "    # Obtener las 5 palabras más comunes\n",
    "    top_5 = sorted_frequencies[:5]\n",
    "    \n",
    "    for w, frequency in top_5:\n",
    "        print(f\"'{w}': {frequency} times\")\n",
    "\n",
    "text = \"\"\"\n",
    "    In the heart of the city, Emily discovered a quaint little café, hidden away from the bustling streets. \n",
    "    The aroma of freshly baked pastries wafted through the air, drawing in passersby. As she sipped on her latte, \n",
    "    she noticed an old bookshelf filled with classics, creating a cozy atmosphere that made her lose track of time.\n",
    "\"\"\"\n",
    "process_text(text)"
   ]
  },
  {
   "cell_type": "markdown",
   "id": "29040779",
   "metadata": {},
   "source": [
    "Puntos a optimizar:\n",
    "\n",
    "1. **Eliminar los signos de puntuación**: Usar `replace`  en un ciclo puede ser ineficiente, especialmente con textos largos. Busca una formas eficiente de eliminar los signos de puntuación.\n",
    "2. **Contador de frecuencia**: El código verifica la existencia de cada palabra en el diccionario y luego actualiza su cuenta. Esto puede hacerse mas eficientemente con ciertas estructuras de datos en Python.\n",
    "3. **Ordenar y seleccionar:** Considera si hay una forma mas directa o efectiva de obtener las 5 palabras mas frecuentes sin ordenar todas las palabras.\n",
    "4. **Modularidad**: Divide el código en funciones mas pequeñas para que cada una puede realizar una tarea específica. Esto no solo optimizará el desempeño, sino también hará el código mas legible y mantenible."
   ]
  },
  {
   "cell_type": "code",
   "execution_count": 5,
   "id": "e873d54c",
   "metadata": {},
   "outputs": [],
   "source": [
    "#PASO 0: Importar las librerías, esto nos surgió tras analizar las funciones que usaremos; desde el paso 2, 3, y 4; volví para crear el paso 0.\n",
    "import re\n",
    "import string\n",
    "from collections import Counter"
   ]
  },
  {
   "cell_type": "code",
   "execution_count": 6,
   "id": "57cd6641",
   "metadata": {},
   "outputs": [
    {
     "name": "stdout",
     "output_type": "stream",
     "text": [
      "in the heart of the city, emily discovered a quaint little café, hidden away from the bustling streets. \n",
      "    the aroma of freshly baked pastries wafted through the air, drawing in passersby. as she sipped on her latte, \n",
      "    she noticed an old bookshelf filled with classics, creating a cozy atmosphere that made her lose track of time.\n"
     ]
    }
   ],
   "source": [
    "#PASO 1: Colocar el texto que debemos procesar como valor, la llamamos \"texto\".\n",
    "# Colocamos 3 pares de comillas al inicio y al final (\"\"\"), porque son 3 filas de texto, y queremos mantenerlas así. No que se junten en una sola fila.\n",
    "texto=\"\"\"In the heart of the city, Emily discovered a quaint little café, hidden away from the bustling streets. \n",
    "    The aroma of freshly baked pastries wafted through the air, drawing in passersby. As she sipped on her latte, \n",
    "    she noticed an old bookshelf filled with classics, creating a cozy atmosphere that made her lose track of time.\"\"\"\n",
    "#PASO 2: Para que podamos contar la frecuencias de las palabras enteras, deben estar en minúsculas, lo cual es lo 1° que piden.\n",
    "# lower() -> nos ayudará a pasar todo en minúscula\n",
    "texto_minusculas=texto.lower()\n",
    "print(texto_minusculas)"
   ]
  },
  {
   "cell_type": "code",
   "execution_count": 7,
   "id": "6c9c3c57",
   "metadata": {},
   "outputs": [
    {
     "name": "stdout",
     "output_type": "stream",
     "text": [
      "in the heart of the city emily discovered a quaint little café hidden away from the bustling streets \n",
      "    the aroma of freshly baked pastries wafted through the air drawing in passersby as she sipped on her latte \n",
      "    she noticed an old bookshelf filled with classics creating a cozy atmosphere that made her lose track of time\n"
     ]
    }
   ],
   "source": [
    "# PASO 3: Para contar la frecuancia de las palabras, tampoco deben tener signos de puntuación. Es lo 2° que nos piden.\n",
    "# re.sub -> busca caracteres similares en el texto, para reemplazarlos en otra cadena.\n",
    "# re.escape -> ayuda a que los caracteres especiales escapen y puedan coincidir con la expresión regular (la original,que esta como \"texto\")\n",
    "# string.punctuation -> nos ayudó a decirle a (re.escape), qué cosas queremos que se escapen, en este caso los signos de puntuación más comunes en inglés.\n",
    "texto_sin_puntuacion = re.sub(f\"[{re.escape(string.punctuation)}]\", \"\", texto_minusculas)\n",
    "print(texto_sin_puntuacion)"
   ]
  },
  {
   "cell_type": "code",
   "execution_count": 8,
   "id": "a2ff534c",
   "metadata": {},
   "outputs": [
    {
     "name": "stdout",
     "output_type": "stream",
     "text": [
      "Counter({'the': 5, 'of': 3, 'in': 2, 'a': 2, 'she': 2, 'her': 2, 'heart': 1, 'city': 1, 'emily': 1, 'discovered': 1, 'quaint': 1, 'little': 1, 'café': 1, 'hidden': 1, 'away': 1, 'from': 1, 'bustling': 1, 'streets': 1, 'aroma': 1, 'freshly': 1, 'baked': 1, 'pastries': 1, 'wafted': 1, 'through': 1, 'air': 1, 'drawing': 1, 'passersby': 1, 'as': 1, 'sipped': 1, 'on': 1, 'latte': 1, 'noticed': 1, 'an': 1, 'old': 1, 'bookshelf': 1, 'filled': 1, 'with': 1, 'classics': 1, 'creating': 1, 'cozy': 1, 'atmosphere': 1, 'that': 1, 'made': 1, 'lose': 1, 'track': 1, 'time': 1})\n"
     ]
    }
   ],
   "source": [
    "#PASO 4: Importado de la librería Collections en la celda 0\n",
    "# Counter -> Contamos la frecuencia de las palabras. Es lo 3°que nos piden.\n",
    "frecuencia_palabras = Counter(texto_sin_puntuacion.split())\n",
    "print(frecuencia_palabras)"
   ]
  },
  {
   "cell_type": "code",
   "execution_count": 9,
   "id": "e83d5196",
   "metadata": {},
   "outputs": [
    {
     "name": "stdout",
     "output_type": "stream",
     "text": [
      "Las 5 palabras más comunes son: [('the', 5), ('of', 3), ('in', 2), ('a', 2), ('she', 2)]\n"
     ]
    }
   ],
   "source": [
    "#PASO 5: Es lo 4° y último que nos piden, mostrar las 5 palabras más comunes\n",
    "# .most_common(x) -> Mostrar las x palabras mas comunes.\n",
    "palabras_mas_comunes = frecuencia_palabras.most_common(5)\n",
    "print(\"Las 5 palabras más comunes son:\",palabras_mas_comunes)"
   ]
  },
  {
   "cell_type": "code",
   "execution_count": 10,
   "id": "b2ead16b",
   "metadata": {},
   "outputs": [
    {
     "name": "stdout",
     "output_type": "stream",
     "text": [
      "Las 5 palabras más comunes son: [('the', 5), ('of', 3), ('in', 2), ('a', 2), ('she', 2)]\n"
     ]
    }
   ],
   "source": [
    "#PASO 6: Unimos todo el código en una sola celda. Armar la estructura, con todas las partes que hicimos individualmente.\n",
    "import re\n",
    "import string\n",
    "from collections import Counter\n",
    "texto=\"\"\"In the heart of the city, Emily discovered a quaint little café, hidden away from the bustling streets. \n",
    "    The aroma of freshly baked pastries wafted through the air, drawing in passersby. As she sipped on her latte, \n",
    "    she noticed an old bookshelf filled with classics, creating a cozy atmosphere that made her lose track of time.\"\"\"\n",
    "texto_minusculas=texto.lower()\n",
    "texto_sin_puntuacion = re.sub(f\"[{re.escape(string.punctuation)}]\", \"\", texto_minusculas)\n",
    "frecuencia_palabras = Counter(texto_sin_puntuacion.split())\n",
    "palabras_mas_comunes = frecuencia_palabras.most_common(5)\n",
    "print(\"Las 5 palabras más comunes son:\",palabras_mas_comunes)"
   ]
  },
  {
   "cell_type": "markdown",
   "id": "0705054d",
   "metadata": {},
   "source": [
    "CONCLUSIONES:\n",
    "\n",
    "-Se optimizó el código, de 18 a 9 líneas.\n",
    "\n",
    "-Las variables y valores van al inicio de un código, por ello, pasó del final a la primera parte el texto que debiamos procesar.\n",
    "\n",
    "-Los métodos re.sub / re.escape / string.punctuation, han agilizado el proceso; así, ya no se repite el código, una y otra vez.\n",
    "\n",
    "-El método Counter, es más eficiente que sumar +1 a cada cuenta dentro de un bucle, dentro de una función. Y sólo hizo falta, importarlo de la librería Collections.\n",
    "\n",
    "-Imprimir las palabras mas comunes con most.common, es más rápido que ordenar de mayor a menor la frecuencia de las palabras, para después imprimir las primeras.\n",
    "\n",
    "C.G.W."
   ]
  },
  {
   "attachments": {},
   "cell_type": "markdown",
   "id": "011996bc",
   "metadata": {},
   "source": [
    "## Ejercicio 2\n",
    "### Optimización de código para procesamiento de listas\n",
    "\n",
    "Se te ha dado el siguiente código que realiza operaciones en una lista de números para:\n",
    "\n",
    "1. Filtrar los números pares.\n",
    "2. Duplicar cada número.\n",
    "3. Sumar todos los números.\n",
    "4. Verificar si el resultado es un número primo.\n",
    "\n",
    "El código entregado logra los objetivos, pero puede ser ineficiente. Tu tarea es identificar y mejorar las partes de ese código para mejorar su eficiencia."
   ]
  },
  {
   "cell_type": "code",
   "execution_count": 11,
   "id": "783d03a0",
   "metadata": {},
   "outputs": [
    {
     "name": "stdout",
     "output_type": "stream",
     "text": [
      "Result: 60, ¿Prime? No\n"
     ]
    }
   ],
   "source": [
    "import math\n",
    "\n",
    "def is_prime(n):\n",
    "    if n <= 1:\n",
    "        return False\n",
    "    for i in range(2, int(math.sqrt(n)) + 1):\n",
    "        if n % i == 0:\n",
    "            return False\n",
    "    return True\n",
    "\n",
    "def process_list(list_):\n",
    "    filtered_list = []\n",
    "    for num in list_:\n",
    "        if num % 2 == 0:\n",
    "            filtered_list.append(num)\n",
    "    \n",
    "    duplicate_list = []\n",
    "    for num in filtered_list:\n",
    "        duplicate_list.append(num * 2)\n",
    "        \n",
    "    sum = 0\n",
    "    for num in duplicate_list:\n",
    "        sum += num\n",
    "\n",
    "    prime = is_prime(sum)\n",
    "    \n",
    "    return sum, prime\n",
    "\n",
    "list_ = [1, 2, 3, 4, 5, 6, 7, 8, 9, 10]\n",
    "result, result_prime = process_list(list_)\n",
    "print(f\"Result: {result}, ¿Prime? {'Yes' if result_prime else 'No'}\")"
   ]
  },
  {
   "cell_type": "markdown",
   "id": "128d564e",
   "metadata": {},
   "source": [
    "Puntos a optimizar:\n",
    "\n",
    "1. **Filtrar las números**: El código recorre la lista original para filtrar los números pares. Considera una forma mas eficiente de filtrar la lista.\n",
    "2. **Duplicación**: La lista es atravesada varias veces. ¿Hay alguna manera de hacer esto mas eficientemente?\n",
    "3. **Suma**: Los números en la lista se suman a traves de un bucle. Python trae incluidas unas funciones que pueden optimizar esto.\n",
    "4. **Función `is_prime`**: Aunque ésta función es relativamente eficiente, investiga si hay maneras de hacerla aun más rápida.\n",
    "5. **Modularidad**: Considera dividir el código en funciones más pequeñas, cada una enfocada en una tarea específica."
   ]
  },
  {
   "cell_type": "code",
   "execution_count": 12,
   "id": "f40e35d6",
   "metadata": {},
   "outputs": [],
   "source": [
    "#PASO 0: No hizo falta importar nada, en este ejercicio."
   ]
  },
  {
   "cell_type": "code",
   "execution_count": 13,
   "id": "7336f2fe",
   "metadata": {},
   "outputs": [
    {
     "name": "stdout",
     "output_type": "stream",
     "text": [
      "[2, 4, 6, 8, 10]\n"
     ]
    }
   ],
   "source": [
    "#PASO 1: Colocar la lista que debemos procesar como valor, la llamamos \"lista\".\n",
    "lista = [1, 2, 3, 4, 5, 6, 7, 8, 9, 10]\n",
    "#PASO 2: Debemos obtener sólo los numeros pares de la lista, es lo 1° que piden.\n",
    "# numero for numero-> para iterar através de los elementos de la lista.\n",
    "def numeros_pares (lista):\n",
    "    return [numero for numero in lista if numero % 2 == 0]\n",
    "print(numeros_pares(lista))"
   ]
  },
  {
   "cell_type": "code",
   "execution_count": 14,
   "id": "d3efde6f",
   "metadata": {},
   "outputs": [
    {
     "name": "stdout",
     "output_type": "stream",
     "text": [
      "[4, 8, 12, 16, 20]\n"
     ]
    }
   ],
   "source": [
    "# PASO 3: Duplicar los números pares que obtuvimos. Es lo 2° que nos piden.\n",
    "# numero * 2 for numero -> nos ayuda a iterar y a la vez multiplicar los elementos de la lista (de numeros pares).\n",
    "lista_duplicados= [numero * 2 for numero in numeros_pares(lista)]\n",
    "print(lista_duplicados)"
   ]
  },
  {
   "cell_type": "code",
   "execution_count": 15,
   "id": "fd18c873",
   "metadata": {},
   "outputs": [
    {
     "name": "stdout",
     "output_type": "stream",
     "text": [
      "60\n"
     ]
    }
   ],
   "source": [
    "#PASO 4: Sumar los elementos de la lista de valores duplicados. Lo 3° que nos piden.\n",
    "# Con el operador sum de python lo hacemos sencillamente.\n",
    "suma_lista=sum(lista_duplicados)\n",
    "print(suma_lista)"
   ]
  },
  {
   "cell_type": "code",
   "execution_count": 16,
   "id": "25061e68",
   "metadata": {},
   "outputs": [
    {
     "name": "stdout",
     "output_type": "stream",
     "text": [
      "60 no es un numero primo\n"
     ]
    }
   ],
   "source": [
    "#PASO 5: Verificar si es primo o no el resultado. Lo 4° y último que nos piden.\n",
    "# Definimos la función \"numero_primo\" (es el nombre que le quisimos dar), del valor de la suma total (\"suma_lista\").\n",
    "# Usamos el condicional if para eliminar los valores negativos, ya que no pueden ser primos, tampoco, el 0 y/o 1.\n",
    "# Usamos el bucle for para iterar para ver si el valor es primo o no.\n",
    "def numero_primo (suma_lista):\n",
    "    if suma_lista <= 1:\n",
    "        return (f\"{suma_lista} no es un numero primo\")\n",
    "    for i in range (2, int(suma_lista **0.5) + 1):\n",
    "        if suma_lista % i == 0 :\n",
    "            return (f\"{suma_lista} no es un numero primo\")\n",
    "    return \"Es un número primo\"\n",
    "print(numero_primo(suma_lista))\n"
   ]
  },
  {
   "cell_type": "markdown",
   "id": "266f33e5",
   "metadata": {},
   "source": [
    "CONCLUSIONES:\n",
    "\n",
    "-24 líneas se reducen 13 líneas de código._\n",
    "\n",
    "-Usar fórmulas complejas, al estilo matemático, no es eficiente, ni codigicando, ni al procesar el código._\n",
    "\n",
    "-Usar el \"numero for numero\" agiliza codificar y procesar los datos. Es mucho más simple, y además es más útil, porque sólo tendríamos que cambiar, quitar, o añadir valores a la lista._\n",
    "\n",
    "-Usamos una funcion, ya que al usar el bucle if, necesitabamos iterar._\n",
    "\n",
    "-Se analizan bien las condiciones que usamos, para hacerla más universal (Sin contar ningún negativo), así no tener que editarlo todo el tiempo al cambiar los valores de la lista, ya que pueden ser miles, y no es viable hayar primos 1x1._\n",
    "\n",
    "C.G.W."
   ]
  },
  {
   "attachments": {},
   "cell_type": "markdown",
   "id": "1af70806",
   "metadata": {},
   "source": [
    "Ambos ejercicios  ayudarán a mejorar tu habilidad de optimizar el desempeño del código y te darán un mejor entendimiento de como las diferentes estructuras de datos y técnicas de programación pueden afectar la eficiencia de tu código."
   ]
  }
 ],
 "metadata": {
  "kernelspec": {
   "display_name": "Python 3",
   "language": "python",
   "name": "python3"
  },
  "language_info": {
   "codemirror_mode": {
    "name": "ipython",
    "version": 3
   },
   "file_extension": ".py",
   "mimetype": "text/x-python",
   "name": "python",
   "nbconvert_exporter": "python",
   "pygments_lexer": "ipython3",
   "version": "3.11.4"
  }
 },
 "nbformat": 4,
 "nbformat_minor": 5
}
